{
 "cells": [
  {
   "cell_type": "code",
   "execution_count": 49,
   "metadata": {},
   "outputs": [],
   "source": [
    "from pyspark.sql import SparkSession"
   ]
  },
  {
   "cell_type": "code",
   "execution_count": 50,
   "metadata": {},
   "outputs": [],
   "source": [
    "spark = SparkSession.builder.appName(\"Basics\").getOrCreate()"
   ]
  },
  {
   "cell_type": "code",
   "execution_count": 51,
   "metadata": {},
   "outputs": [
    {
     "data": {
      "text/plain": [
       "pyspark.sql.session.SparkSession"
      ]
     },
     "execution_count": 51,
     "metadata": {},
     "output_type": "execute_result"
    }
   ],
   "source": [
    "type(spark)"
   ]
  },
  {
   "cell_type": "code",
   "execution_count": 52,
   "metadata": {},
   "outputs": [
    {
     "data": {
      "text/plain": [
       "pyspark.sql.session.SparkSession"
      ]
     },
     "execution_count": 52,
     "metadata": {},
     "output_type": "execute_result"
    }
   ],
   "source": [
    "type(spark)"
   ]
  },
  {
   "cell_type": "code",
   "execution_count": 53,
   "metadata": {},
   "outputs": [],
   "source": [
    "dfr = spark.read"
   ]
  },
  {
   "cell_type": "code",
   "execution_count": 54,
   "metadata": {},
   "outputs": [
    {
     "data": {
      "text/plain": [
       "pyspark.sql.readwriter.DataFrameReader"
      ]
     },
     "execution_count": 54,
     "metadata": {},
     "output_type": "execute_result"
    }
   ],
   "source": [
    "type(dfr)"
   ]
  },
  {
   "cell_type": "code",
   "execution_count": 55,
   "metadata": {},
   "outputs": [
    {
     "data": {
      "text/plain": [
       "DataFrame[value: string]"
      ]
     },
     "execution_count": 55,
     "metadata": {},
     "output_type": "execute_result"
    }
   ],
   "source": [
    "dfr.text(r\"C:\\satya\\data\\code\\pyspark\")"
   ]
  },
  {
   "cell_type": "code",
   "execution_count": 56,
   "metadata": {},
   "outputs": [],
   "source": [
    "lines=dfr.text(r\"C:\\satya\\data\\code\\pyspark\\sonnet2.txt\")"
   ]
  },
  {
   "cell_type": "code",
   "execution_count": 57,
   "metadata": {},
   "outputs": [
    {
     "data": {
      "text/plain": [
       "pyspark.sql.dataframe.DataFrame"
      ]
     },
     "execution_count": 57,
     "metadata": {},
     "output_type": "execute_result"
    }
   ],
   "source": [
    "type(lines)"
   ]
  },
  {
   "cell_type": "code",
   "execution_count": 58,
   "metadata": {},
   "outputs": [
    {
     "name": "stdout",
     "output_type": "stream",
     "text": [
      "+--------------------+\n",
      "|               value|\n",
      "+--------------------+\n",
      "|When forty winter...|\n",
      "|And dig deep tren...|\n",
      "|Thy youth's proud...|\n",
      "|Will be a tatter'...|\n",
      "|Then being ask'd ...|\n",
      "|Where all the tre...|\n",
      "|To say, within th...|\n",
      "|Were an all-eatin...|\n",
      "|How much more pra...|\n",
      "|If thou couldst a...|\n",
      "|Shall sum my coun...|\n",
      "|Proving his beaut...|\n",
      "|This were to be n...|\n",
      "|And see thy blood...|\n",
      "+--------------------+\n",
      "\n"
     ]
    }
   ],
   "source": [
    "lines.show()"
   ]
  },
  {
   "cell_type": "code",
   "execution_count": 59,
   "metadata": {},
   "outputs": [],
   "source": [
    "asrdd = lines.rdd"
   ]
  },
  {
   "cell_type": "code",
   "execution_count": 60,
   "metadata": {},
   "outputs": [
    {
     "data": {
      "text/plain": [
       "pyspark.rdd.RDD"
      ]
     },
     "execution_count": 60,
     "metadata": {},
     "output_type": "execute_result"
    }
   ],
   "source": [
    "type(asrdd)"
   ]
  },
  {
   "cell_type": "code",
   "execution_count": 61,
   "metadata": {},
   "outputs": [
    {
     "name": "stdout",
     "output_type": "stream",
     "text": [
      "[Row(value='When forty winters shall beseige thy brow,'), Row(value=\"And dig deep trenches in thy beauty's field,\"), Row(value=\"Thy youth's proud livery, so gazed on now,\"), Row(value=\"Will be a tatter'd weed, of small worth held:\"), Row(value=\"Then being ask'd where all thy beauty lies,\"), Row(value='Where all the treasure of thy lusty days,'), Row(value='To say, within thine own deep-sunken eyes,'), Row(value='Were an all-eating shame and thriftless praise.'), Row(value=\"How much more praise deserved thy beauty's use,\"), Row(value=\"If thou couldst answer 'This fair child of mine\"), Row(value=\"Shall sum my count and make my old excuse,'\"), Row(value='Proving his beauty by succession thine!'), Row(value='This were to be new made when thou art old,'), Row(value=\"And see thy blood warm when thou feel'st it cold.\")]\n"
     ]
    }
   ],
   "source": [
    "print(asrdd.collect())"
   ]
  },
  {
   "cell_type": "code",
   "execution_count": 62,
   "metadata": {},
   "outputs": [],
   "source": [
    "rddCollected = asrdd.collect()"
   ]
  },
  {
   "cell_type": "code",
   "execution_count": 63,
   "metadata": {},
   "outputs": [
    {
     "name": "stdout",
     "output_type": "stream",
     "text": [
      "[Row(value='When forty winters shall beseige thy brow,'), Row(value=\"And dig deep trenches in thy beauty's field,\"), Row(value=\"Thy youth's proud livery, so gazed on now,\"), Row(value=\"Will be a tatter'd weed, of small worth held:\"), Row(value=\"Then being ask'd where all thy beauty lies,\"), Row(value='Where all the treasure of thy lusty days,'), Row(value='To say, within thine own deep-sunken eyes,'), Row(value='Were an all-eating shame and thriftless praise.'), Row(value=\"How much more praise deserved thy beauty's use,\"), Row(value=\"If thou couldst answer 'This fair child of mine\"), Row(value=\"Shall sum my count and make my old excuse,'\"), Row(value='Proving his beauty by succession thine!'), Row(value='This were to be new made when thou art old,'), Row(value=\"And see thy blood warm when thou feel'st it cold.\")]\n"
     ]
    }
   ],
   "source": [
    "print(rddCollected)"
   ]
  },
  {
   "cell_type": "code",
   "execution_count": 64,
   "metadata": {},
   "outputs": [
    {
     "name": "stdout",
     "output_type": "stream",
     "text": [
      "MapPartitionsRDD[27] at javaToPython at <unknown>:0\n"
     ]
    }
   ],
   "source": [
    "print(asrdd)"
   ]
  },
  {
   "cell_type": "code",
   "execution_count": 65,
   "metadata": {},
   "outputs": [
    {
     "data": {
      "text/plain": [
       "list"
      ]
     },
     "execution_count": 65,
     "metadata": {},
     "output_type": "execute_result"
    }
   ],
   "source": [
    "type(rddCollected)"
   ]
  },
  {
   "cell_type": "code",
   "execution_count": 66,
   "metadata": {},
   "outputs": [
    {
     "data": {
      "text/plain": [
       "PythonRDD[28] at RDD at PythonRDD.scala:53"
      ]
     },
     "execution_count": 66,
     "metadata": {},
     "output_type": "execute_result"
    }
   ],
   "source": [
    "asrdd.map(lambda row: row[0])"
   ]
  },
  {
   "cell_type": "code",
   "execution_count": 67,
   "metadata": {},
   "outputs": [],
   "source": [
    "mappedRDD = asrdd.map(lambda row: row[0])"
   ]
  },
  {
   "cell_type": "code",
   "execution_count": 68,
   "metadata": {},
   "outputs": [
    {
     "data": {
      "text/plain": [
       "pyspark.rdd.PipelinedRDD"
      ]
     },
     "execution_count": 68,
     "metadata": {},
     "output_type": "execute_result"
    }
   ],
   "source": [
    "type(mappedRDD)"
   ]
  },
  {
   "cell_type": "code",
   "execution_count": 69,
   "metadata": {},
   "outputs": [],
   "source": [
    "mapRDD2 = asrdd.map(lambda row: row.value)"
   ]
  },
  {
   "cell_type": "code",
   "execution_count": 70,
   "metadata": {},
   "outputs": [
    {
     "name": "stdout",
     "output_type": "stream",
     "text": [
      "['When forty winters shall beseige thy brow,', \"And dig deep trenches in thy beauty's field,\", \"Thy youth's proud livery, so gazed on now,\", \"Will be a tatter'd weed, of small worth held:\", \"Then being ask'd where all thy beauty lies,\", 'Where all the treasure of thy lusty days,', 'To say, within thine own deep-sunken eyes,', 'Were an all-eating shame and thriftless praise.', \"How much more praise deserved thy beauty's use,\", \"If thou couldst answer 'This fair child of mine\", \"Shall sum my count and make my old excuse,'\", 'Proving his beauty by succession thine!', 'This were to be new made when thou art old,', \"And see thy blood warm when thou feel'st it cold.\"]\n"
     ]
    }
   ],
   "source": [
    "print(mapRDD2.collect())"
   ]
  },
  {
   "cell_type": "code",
   "execution_count": 71,
   "metadata": {},
   "outputs": [
    {
     "name": "stdout",
     "output_type": "stream",
     "text": [
      "[Row(value='When forty winters shall beseige thy brow,'), Row(value=\"And dig deep trenches in thy beauty's field,\"), Row(value=\"Thy youth's proud livery, so gazed on now,\"), Row(value=\"Will be a tatter'd weed, of small worth held:\"), Row(value=\"Then being ask'd where all thy beauty lies,\"), Row(value='Where all the treasure of thy lusty days,'), Row(value='To say, within thine own deep-sunken eyes,'), Row(value='Were an all-eating shame and thriftless praise.'), Row(value=\"How much more praise deserved thy beauty's use,\"), Row(value=\"If thou couldst answer 'This fair child of mine\"), Row(value=\"Shall sum my count and make my old excuse,'\"), Row(value='Proving his beauty by succession thine!'), Row(value='This were to be new made when thou art old,'), Row(value=\"And see thy blood warm when thou feel'st it cold.\")]\n"
     ]
    }
   ],
   "source": [
    "print(asrdd.collect())"
   ]
  },
  {
   "cell_type": "code",
   "execution_count": 72,
   "metadata": {},
   "outputs": [
    {
     "data": {
      "text/plain": [
       "pyspark.rdd.PipelinedRDD"
      ]
     },
     "execution_count": 72,
     "metadata": {},
     "output_type": "execute_result"
    }
   ],
   "source": [
    "type(mapRDD2)"
   ]
  },
  {
   "cell_type": "code",
   "execution_count": 84,
   "metadata": {},
   "outputs": [],
   "source": [
    "firstObject = asrdd.first()"
   ]
  },
  {
   "cell_type": "code",
   "execution_count": 85,
   "metadata": {},
   "outputs": [
    {
     "data": {
      "text/plain": [
       "pyspark.sql.types.Row"
      ]
     },
     "execution_count": 85,
     "metadata": {},
     "output_type": "execute_result"
    }
   ],
   "source": [
    "type(firstObject)"
   ]
  },
  {
   "cell_type": "code",
   "execution_count": 86,
   "metadata": {},
   "outputs": [
    {
     "name": "stdout",
     "output_type": "stream",
     "text": [
      "When forty winters shall beseige thy brow,\n"
     ]
    }
   ],
   "source": [
    "print(firstObject.value)"
   ]
  },
  {
   "cell_type": "code",
   "execution_count": 87,
   "metadata": {},
   "outputs": [],
   "source": [
    "x = asrdd.map(lambda row: row.value)"
   ]
  },
  {
   "cell_type": "code",
   "execution_count": 88,
   "metadata": {},
   "outputs": [
    {
     "data": {
      "text/plain": [
       "pyspark.rdd.PipelinedRDD"
      ]
     },
     "execution_count": 88,
     "metadata": {},
     "output_type": "execute_result"
    }
   ],
   "source": [
    "type(x)"
   ]
  },
  {
   "cell_type": "code",
   "execution_count": 89,
   "metadata": {},
   "outputs": [
    {
     "name": "stdout",
     "output_type": "stream",
     "text": [
      "PythonRDD[33] at RDD at PythonRDD.scala:53\n"
     ]
    }
   ],
   "source": [
    "print(x)"
   ]
  },
  {
   "cell_type": "code",
   "execution_count": 90,
   "metadata": {},
   "outputs": [
    {
     "name": "stdout",
     "output_type": "stream",
     "text": [
      "['When forty winters shall beseige thy brow,', \"And dig deep trenches in thy beauty's field,\", \"Thy youth's proud livery, so gazed on now,\", \"Will be a tatter'd weed, of small worth held:\", \"Then being ask'd where all thy beauty lies,\", 'Where all the treasure of thy lusty days,', 'To say, within thine own deep-sunken eyes,', 'Were an all-eating shame and thriftless praise.', \"How much more praise deserved thy beauty's use,\", \"If thou couldst answer 'This fair child of mine\", \"Shall sum my count and make my old excuse,'\", 'Proving his beauty by succession thine!', 'This were to be new made when thou art old,', \"And see thy blood warm when thou feel'st it cold.\"]\n"
     ]
    }
   ],
   "source": [
    "print(x.collect())"
   ]
  },
  {
   "cell_type": "code",
   "execution_count": 92,
   "metadata": {},
   "outputs": [],
   "source": [
    "y = asrdd.map(lambda row: row.value.split(' '))"
   ]
  },
  {
   "cell_type": "code",
   "execution_count": 93,
   "metadata": {},
   "outputs": [
    {
     "data": {
      "text/plain": [
       "pyspark.rdd.PipelinedRDD"
      ]
     },
     "execution_count": 93,
     "metadata": {},
     "output_type": "execute_result"
    }
   ],
   "source": [
    "type(y)"
   ]
  },
  {
   "cell_type": "code",
   "execution_count": 94,
   "metadata": {
    "scrolled": true
   },
   "outputs": [
    {
     "name": "stdout",
     "output_type": "stream",
     "text": [
      "[['When', 'forty', 'winters', 'shall', 'beseige', 'thy', 'brow,'], ['And', 'dig', 'deep', 'trenches', 'in', 'thy', \"beauty's\", 'field,'], ['Thy', \"youth's\", 'proud', 'livery,', 'so', 'gazed', 'on', 'now,'], ['Will', 'be', 'a', \"tatter'd\", 'weed,', 'of', 'small', 'worth', 'held:'], ['Then', 'being', \"ask'd\", 'where', 'all', 'thy', 'beauty', 'lies,'], ['Where', 'all', 'the', 'treasure', 'of', 'thy', 'lusty', 'days,'], ['To', 'say,', 'within', 'thine', 'own', 'deep-sunken', 'eyes,'], ['Were', 'an', 'all-eating', 'shame', 'and', 'thriftless', 'praise.'], ['How', 'much', 'more', 'praise', 'deserved', 'thy', \"beauty's\", 'use,'], ['If', 'thou', 'couldst', 'answer', \"'This\", 'fair', 'child', 'of', 'mine'], ['Shall', 'sum', 'my', 'count', 'and', 'make', 'my', 'old', \"excuse,'\"], ['Proving', 'his', 'beauty', 'by', 'succession', 'thine!'], ['This', 'were', 'to', 'be', 'new', 'made', 'when', 'thou', 'art', 'old,'], ['And', 'see', 'thy', 'blood', 'warm', 'when', 'thou', \"feel'st\", 'it', 'cold.']]\n"
     ]
    }
   ],
   "source": [
    "print(y.collect())"
   ]
  },
  {
   "cell_type": "code",
   "execution_count": 96,
   "metadata": {},
   "outputs": [],
   "source": [
    "z = y.top(10)"
   ]
  },
  {
   "cell_type": "code",
   "execution_count": 97,
   "metadata": {},
   "outputs": [
    {
     "data": {
      "text/plain": [
       "list"
      ]
     },
     "execution_count": 97,
     "metadata": {},
     "output_type": "execute_result"
    }
   ],
   "source": [
    "type(z)"
   ]
  },
  {
   "cell_type": "code",
   "execution_count": 98,
   "metadata": {},
   "outputs": [
    {
     "name": "stdout",
     "output_type": "stream",
     "text": [
      "[['Will', 'be', 'a', \"tatter'd\", 'weed,', 'of', 'small', 'worth', 'held:'], ['Where', 'all', 'the', 'treasure', 'of', 'thy', 'lusty', 'days,'], ['When', 'forty', 'winters', 'shall', 'beseige', 'thy', 'brow,'], ['Were', 'an', 'all-eating', 'shame', 'and', 'thriftless', 'praise.'], ['To', 'say,', 'within', 'thine', 'own', 'deep-sunken', 'eyes,'], ['Thy', \"youth's\", 'proud', 'livery,', 'so', 'gazed', 'on', 'now,'], ['This', 'were', 'to', 'be', 'new', 'made', 'when', 'thou', 'art', 'old,'], ['Then', 'being', \"ask'd\", 'where', 'all', 'thy', 'beauty', 'lies,'], ['Shall', 'sum', 'my', 'count', 'and', 'make', 'my', 'old', \"excuse,'\"], ['Proving', 'his', 'beauty', 'by', 'succession', 'thine!']]\n"
     ]
    }
   ],
   "source": [
    "print(z)"
   ]
  },
  {
   "cell_type": "code",
   "execution_count": null,
   "metadata": {},
   "outputs": [],
   "source": []
  }
 ],
 "metadata": {
  "kernelspec": {
   "display_name": "Python 3",
   "language": "python",
   "name": "python3"
  },
  "language_info": {
   "codemirror_mode": {
    "name": "ipython",
    "version": 3
   },
   "file_extension": ".py",
   "mimetype": "text/x-python",
   "name": "python",
   "nbconvert_exporter": "python",
   "pygments_lexer": "ipython3",
   "version": "3.7.4"
  }
 },
 "nbformat": 4,
 "nbformat_minor": 4
}
